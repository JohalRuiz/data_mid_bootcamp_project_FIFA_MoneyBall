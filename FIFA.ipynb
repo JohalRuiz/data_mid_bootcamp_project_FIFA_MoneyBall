{
 "cells": [
  {
   "cell_type": "code",
   "execution_count": 2,
   "metadata": {
    "scrolled": true
   },
   "outputs": [],
   "source": [
    "import pandas as pd\n",
    "import numpy as np\n",
    "import matplotlib.pyplot as plt\n",
    "import seaborn as sns\n",
    "\n",
    "import warnings\n",
    "warnings.filterwarnings('ignore')"
   ]
  },
  {
   "cell_type": "code",
   "execution_count": 3,
   "metadata": {},
   "outputs": [],
   "source": [
    "pd.set_option('display.max_rows', None)"
   ]
  },
  {
   "cell_type": "code",
   "execution_count": 4,
   "metadata": {
    "scrolled": true
   },
   "outputs": [],
   "source": [
    "df1 = pd.read_csv('fifa21_male3.csv')"
   ]
  },
  {
   "cell_type": "code",
   "execution_count": 5,
   "metadata": {
    "scrolled": true
   },
   "outputs": [
    {
     "name": "stdout",
     "output_type": "stream",
     "text": [
      "<class 'pandas.core.frame.DataFrame'>\n",
      "RangeIndex: 17125 entries, 0 to 17124\n",
      "Columns: 103 entries, ID to GK\n",
      "dtypes: float64(10), int64(45), object(48)\n",
      "memory usage: 13.5+ MB\n"
     ]
    }
   ],
   "source": [
    "df1.info()"
   ]
  },
  {
   "cell_type": "code",
   "execution_count": 6,
   "metadata": {
    "scrolled": false
   },
   "outputs": [
    {
     "data": {
      "text/plain": [
       "ID                      0\n",
       "Name                    0\n",
       "Age                     0\n",
       "OVA                     0\n",
       "Nationality             0\n",
       "Club                   23\n",
       "BOV                     0\n",
       "BP                      0\n",
       "Position              413\n",
       "POT                     0\n",
       "Team & Contract         0\n",
       "Height                  0\n",
       "Weight                  0\n",
       "foot                    0\n",
       "Growth                  0\n",
       "Joined                 58\n",
       "Loan Date End       16215\n",
       "Value                   0\n",
       "Wage                    0\n",
       "Release Clause          0\n",
       "Contract                0\n",
       "Attacking               0\n",
       "Crossing                0\n",
       "Finishing               0\n",
       "Heading Accuracy        0\n",
       "Short Passing           0\n",
       "Volleys                58\n",
       "Skill                   0\n",
       "Dribbling               0\n",
       "Curve                  58\n",
       "FK Accuracy             0\n",
       "Long Passing            0\n",
       "Ball Control            0\n",
       "Movement                0\n",
       "Acceleration            0\n",
       "Sprint Speed            0\n",
       "Agility                58\n",
       "Reactions               0\n",
       "Balance                58\n",
       "Power                   0\n",
       "Shot Power              0\n",
       "Jumping                58\n",
       "Stamina                 0\n",
       "Strength                0\n",
       "Long Shots              0\n",
       "Mentality               0\n",
       "Aggression              0\n",
       "Interceptions           7\n",
       "Positioning             7\n",
       "Vision                 58\n",
       "Penalties               0\n",
       "Composure             423\n",
       "Defending               0\n",
       "Marking                 0\n",
       "Standing Tackle         0\n",
       "Sliding Tackle         58\n",
       "Goalkeeping             0\n",
       "GK Diving               0\n",
       "GK Handling             0\n",
       "GK Kicking              0\n",
       "GK Positioning          0\n",
       "GK Reflexes             0\n",
       "Total Stats             0\n",
       "Base Stats              0\n",
       "W/F                     0\n",
       "SM                      0\n",
       "A/W                    89\n",
       "D/W                    89\n",
       "IR                      0\n",
       "PAC                     0\n",
       "SHO                     0\n",
       "PAS                     0\n",
       "DRI                     0\n",
       "DEF                     0\n",
       "PHY                     0\n",
       "Hits                    0\n",
       "LS                      0\n",
       "ST                      0\n",
       "RS                      0\n",
       "LW                      0\n",
       "LF                      0\n",
       "CF                      0\n",
       "RF                      0\n",
       "RW                      0\n",
       "LAM                     0\n",
       "CAM                     0\n",
       "RAM                     0\n",
       "LM                      0\n",
       "LCM                     0\n",
       "CM                      0\n",
       "RCM                     0\n",
       "RM                      0\n",
       "LWB                     0\n",
       "LDM                     0\n",
       "CDM                     0\n",
       "RDM                     0\n",
       "RWB                     0\n",
       "LB                      0\n",
       "LCB                     0\n",
       "CB                      0\n",
       "RCB                     0\n",
       "RB                      0\n",
       "GK                      0\n",
       "dtype: int64"
      ]
     },
     "execution_count": 6,
     "metadata": {},
     "output_type": "execute_result"
    }
   ],
   "source": [
    "df1.isna().sum()"
   ]
  },
  {
   "cell_type": "code",
   "execution_count": null,
   "metadata": {},
   "outputs": [],
   "source": [
    "df1.drop(['A'], axis = 1) "
   ]
  },
  {
   "cell_type": "code",
   "execution_count": null,
   "metadata": {},
   "outputs": [],
   "source": []
  },
  {
   "cell_type": "code",
   "execution_count": null,
   "metadata": {},
   "outputs": [],
   "source": [
    "df1[['Team', 'Contract']] = df['Team & Contract'].str.split(' ', 1, expand=True)"
   ]
  }
 ],
 "metadata": {
  "kernelspec": {
   "display_name": "Python 3",
   "language": "python",
   "name": "python3"
  },
  "language_info": {
   "codemirror_mode": {
    "name": "ipython",
    "version": 3
   },
   "file_extension": ".py",
   "mimetype": "text/x-python",
   "name": "python",
   "nbconvert_exporter": "python",
   "pygments_lexer": "ipython3",
   "version": "3.8.5"
  }
 },
 "nbformat": 4,
 "nbformat_minor": 4
}
